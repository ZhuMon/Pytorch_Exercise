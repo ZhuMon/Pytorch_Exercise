{
 "cells": [
  {
   "cell_type": "markdown",
   "metadata": {},
   "source": [
    "# Pytorch homework\n",
    "## 作業說明\n",
    "這次的作業總共有5個部份，在每一個部份會有一些被註解框起來的區塊需要完成。\n",
    "1. Preparation: 我們會利用CIFAR-10 dataset **(10%)**\n",
    "2. Pytorch Module API: 在這邊我們會利用 nn.Module 建構出簡單的CNN（CNN架構請參照我們所提供） **(20%)**\n",
    "3. Pytorch ModuleList API: 在這邊我們 nn.ModuleList 以及 nn.Module來建構出簡單的CNN（CNN架構請參照我們所提供） **(20%)**\n",
    "4. Pytorch Sequential API: 在這邊我們 nn.Sequential 來建構出簡單的CNN（CNN架構請參照我們所提供） **(20%)**\n",
    "5. CIFAR-10 open-ended challenge: 在這邊請大家建構屬於自己的CNN，並且盡量的得到高準確度，並解釋如何建構的 **(30%)**\n",
    "    * 可以嘗試建構任意的layer, optimizer或是 hyperparameters等\n",
    "    * 由於並不是所有同學都有GPU可以提供training，因此這題分數的分配不是根據最後的準確度而給分，而是達到baseline之後便會給於全部的分數\n",
    "    * **Baseline: 65% on testing data**\n",
    "    \n",
    "## 作業繳交\n",
    "* Deadline : 11/06 中午12:00\n",
    "    * **遲交一天的打7折**\n",
    "    * **遲交一天以上的打5折**\n",
    "* 繳交方式 : 請繳交這個ipynb檔至moodle\n",
    "* 作業命名 : (你的學號)\\_(姓名)\\_hw2.ipynb  (ex.F71112222_人工智.ipynb) \n",
    "    * **格式不對的話會扣10分！！！**\n",
    "* 有任何問題歡迎寄信至我的信箱\n",
    "    * 黃顯堯 e0928021388@gmail.com\n"
   ]
  },
  {
   "cell_type": "markdown",
   "metadata": {},
   "source": [
    "## Part1 Preparation"
   ]
  },
  {
   "cell_type": "code",
   "execution_count": 2,
   "metadata": {},
   "outputs": [],
   "source": [
    "import torch\n",
    "import torch.nn as nn\n",
    "import torch.nn.functional as F\n",
    "\n",
    "import torch.optim as optim\n",
    "from torch.utils.data import DataLoader\n",
    "from torch.utils.data.sampler import SubsetRandomSampler\n",
    "\n",
    "import torchvision.datasets as datasets\n",
    "import torchvision.transforms as transforms\n",
    "\n",
    "import numpy as np\n",
    "\n",
    "from torchviz import make_dot, make_dot_from_trace"
   ]
  },
  {
   "cell_type": "markdown",
   "metadata": {},
   "source": [
    "### Setting\n",
    "你可以根據需求調整epochs, batch size等等的參數"
   ]
  },
  {
   "cell_type": "code",
   "execution_count": 3,
   "metadata": {},
   "outputs": [],
   "source": [
    "CIFAR_MEAN = [0.49139968, 0.48215827, 0.44653124]\n",
    "CIFAR_STD = [0.2023, 0.1994, 0.2010]\n",
    "\n",
    "EPOCHS = 5\n",
    "BATCH_SIZE = 64\n",
    "PRINT_FREQ = 100\n",
    "TRAIN_NUMS = 49000\n",
    "\n",
    "CUDA = True\n",
    "\n",
    "PATH_TO_SAVE_DATA = \"./\""
   ]
  },
  {
   "cell_type": "markdown",
   "metadata": {},
   "source": [
    "### Load CIFAR-10 dataset"
   ]
  },
  {
   "cell_type": "code",
   "execution_count": 3,
   "metadata": {},
   "outputs": [
    {
     "name": "stderr",
     "output_type": "stream",
     "text": [
      "\r",
      "0it [00:00, ?it/s]"
     ]
    },
    {
     "name": "stdout",
     "output_type": "stream",
     "text": [
      "Downloading https://www.cs.toronto.edu/~kriz/cifar-10-python.tar.gz to ./cifar-10-python.tar.gz\n"
     ]
    },
    {
     "name": "stderr",
     "output_type": "stream",
     "text": [
      "100%|█████████▉| 170074112/170498071 [00:39<00:00, 4883613.23it/s]"
     ]
    },
    {
     "name": "stdout",
     "output_type": "stream",
     "text": [
      "Extracting ./cifar-10-python.tar.gz to ./\n",
      "Files already downloaded and verified\n"
     ]
    },
    {
     "name": "stderr",
     "output_type": "stream",
     "text": [
      "\r",
      "170500096it [00:50, 4883613.23it/s]                               "
     ]
    }
   ],
   "source": [
    "data_transform = transforms.Compose([\n",
    "                      transforms.ToTensor(),\n",
    "                      transforms.Normalize(CIFAR_MEAN, CIFAR_STD)\n",
    "                  ])\n",
    "\n",
    "train_data = datasets.CIFAR10(root=PATH_TO_SAVE_DATA, train=True,\n",
    "                              download=True, transform=data_transform)\n",
    "train_loader = DataLoader(train_data, batch_size=BATCH_SIZE,\n",
    "                          sampler=SubsetRandomSampler(range(TRAIN_NUMS)))\n",
    "val_loader = DataLoader(train_data, batch_size=BATCH_SIZE,\n",
    "                        sampler=SubsetRandomSampler(range(TRAIN_NUMS, 50000)))\n",
    "\n",
    "\n",
    "\n",
    "test_data = datasets.CIFAR10(root=PATH_TO_SAVE_DATA, train=False,\n",
    "                             download=True, transform=data_transform)\n",
    "test_loader = DataLoader(test_data, batch_size=BATCH_SIZE)"
   ]
  },
  {
   "cell_type": "markdown",
   "metadata": {},
   "source": [
    "### GPU setting\n",
    "可以根據選擇是否要使用gpu，在本次的作業沒有一定要使用到gpu，假如你沒有安裝cuda，torch.cuda.is_available會return False"
   ]
  },
  {
   "cell_type": "code",
   "execution_count": 4,
   "metadata": {},
   "outputs": [
    {
     "name": "stdout",
     "output_type": "stream",
     "text": [
      "cpu\n"
     ]
    }
   ],
   "source": [
    "if CUDA:\n",
    "    device = torch.device(\"cuda\" if torch.cuda.is_available() else \"cpu\")\n",
    "else:\n",
    "    device = torch.device(\"cpu\")\n",
    "print(device)"
   ]
  },
  {
   "cell_type": "markdown",
   "metadata": {},
   "source": [
    "### Trainer\n",
    "我們有提供Trainer讓同學可以training自己建構的model"
   ]
  },
  {
   "cell_type": "code",
   "execution_count": 4,
   "metadata": {},
   "outputs": [],
   "source": [
    "class Trainer:\n",
    "    def __init__(self, criterion, optimizer, device):\n",
    "        self.criterion = criterion\n",
    "        self.optimizer = optimizer\n",
    "        \n",
    "        self.device = device\n",
    "        \n",
    "    def train_loop(self, model, train_loader, val_loader):\n",
    "        for epoch in range(EPOCHS):\n",
    "            print(\"---------------- Epoch {} ----------------\".format(epoch))\n",
    "            self._training_step(model, train_loader, epoch)\n",
    "            \n",
    "            self._validate(model, val_loader, epoch)\n",
    "    \n",
    "    def test(self, model, test_loader):\n",
    "            print(\"---------------- Testing ----------------\")\n",
    "            self._validate(model, test_loader, 0, state=\"Testing\")\n",
    "            \n",
    "    def _training_step(self, model, loader, epoch):\n",
    "        model.train()\n",
    "        \n",
    "        for step, (X, y) in enumerate(loader):\n",
    "            X, y = X.to(self.device), y.to(self.device)\n",
    "            N = X.shape[0]\n",
    "            \n",
    "            self.optimizer.zero_grad()\n",
    "            outs = model(X)\n",
    "            loss = self.criterion(outs, y)\n",
    "            \n",
    "            if step >= 0 and (step % PRINT_FREQ == 0):\n",
    "                self._state_logging(outs, y, loss, step, epoch, \"Training\")\n",
    "            \n",
    "            loss.backward()\n",
    "            self.optimizer.step()\n",
    "            \n",
    "    def _validate(self, model, loader, epoch, state=\"Validate\"):\n",
    "        model.eval()\n",
    "        outs_list = []\n",
    "        loss_list = []\n",
    "        y_list = []\n",
    "        \n",
    "        with torch.no_grad():\n",
    "            for step, (X, y) in enumerate(loader):\n",
    "                X, y = X.to(self.device), y.to(self.device)\n",
    "                N = X.shape[0]\n",
    "                \n",
    "                outs = model(X)\n",
    "                loss = self.criterion(outs, y)\n",
    "                \n",
    "                y_list.append(y)\n",
    "                outs_list.append(outs)\n",
    "                loss_list.append(loss)\n",
    "            \n",
    "            y = torch.cat(y_list)\n",
    "            outs = torch.cat(outs_list)\n",
    "            loss = torch.mean(torch.stack(loss_list), dim=0)\n",
    "            self._state_logging(outs, y, loss, step, epoch, state)\n",
    "                \n",
    "                \n",
    "    def _state_logging(self, outs, y, loss, step, epoch, state):\n",
    "        acc = self._accuracy(outs, y)\n",
    "        print(\"[{:3d}/{}] {} Step {:03d} Loss {:.3f} Acc {:.3f}\".format(epoch+1, EPOCHS, state, step, loss, acc))\n",
    "            \n",
    "    def _accuracy(self, output, target):\n",
    "        batch_size = target.size(0)\n",
    "\n",
    "        pred = output.argmax(1)\n",
    "        correct = pred.eq(target)\n",
    "        acc = correct.float().sum(0) / batch_size\n",
    "\n",
    "        return acc"
   ]
  },
  {
   "cell_type": "markdown",
   "metadata": {},
   "source": [
    "### Flatten"
   ]
  },
  {
   "cell_type": "code",
   "execution_count": 18,
   "metadata": {},
   "outputs": [
    {
     "name": "stdout",
     "output_type": "stream",
     "text": [
      "Before flattening: torch.Size([10, 3, 32, 32])\n",
      "After flattening: torch.Size([10, 3072])\n"
     ]
    }
   ],
   "source": [
    "def flatten(x):\n",
    "    ###############################################################################\n",
    "    #                   TODO : Read the input in (N, C, W, H)                     #\n",
    "    #                          \"Flatten\" into (N, C*W*H)                          #                   \n",
    "    ###############################################################################\n",
    "    #x = torch.flatten(x, start_dim=1)\n",
    "    x = x.view(-1, list(x.shape)[1]*list(x.shape)[2]*list(x.shape)[3])\n",
    "    ###############################################################################\n",
    "    #                            END TO DO                                        #\n",
    "    ###############################################################################\n",
    "    \n",
    "    return x\n",
    "\n",
    "def test_flatten():\n",
    "    x = torch.zeros((10, 3, 32, 32))\n",
    "    print(\"Before flattening:\", x.shape)\n",
    "    print(\"After flattening:\", flatten(x).shape) # Expected output (10, 3072) \n",
    "    \n",
    "test_flatten()"
   ]
  },
  {
   "cell_type": "markdown",
   "metadata": {},
   "source": [
    "## Part2 : Module API\n",
    "In this part, you have to complete the implentation of CNN with Module API.\n",
    "The network should have the following architectures.\n",
    "1. A convolution layer with 16 3\\*3 filters, with stride 2\n",
    "2. ReLU\n",
    "3. A convolution layer with 32 3\\*3 filters, with stride 2\n",
    "4. ReLU\n",
    "5. Flatten\n",
    "6. A fully-connected layer produce tensor to 200 \n",
    "7. ReLU\n",
    "8. A fully-connected layer produce score to 10 (classes)\n",
    "![](./resource/model_architecture.png)"
   ]
  },
  {
   "cell_type": "code",
   "execution_count": 19,
   "metadata": {},
   "outputs": [
    {
     "data": {
      "image/svg+xml": [
       "<?xml version=\"1.0\" encoding=\"UTF-8\" standalone=\"no\"?>\n",
       "<!DOCTYPE svg PUBLIC \"-//W3C//DTD SVG 1.1//EN\"\n",
       " \"http://www.w3.org/Graphics/SVG/1.1/DTD/svg11.dtd\">\n",
       "<!-- Generated by graphviz version 2.40.1 (20161225.0304)\n",
       " -->\n",
       "<!-- Title: %3 Pages: 1 -->\n",
       "<svg width=\"332pt\" height=\"537pt\"\n",
       " viewBox=\"0.00 0.00 331.50 537.00\" xmlns=\"http://www.w3.org/2000/svg\" xmlns:xlink=\"http://www.w3.org/1999/xlink\">\n",
       "<g id=\"graph0\" class=\"graph\" transform=\"scale(1 1) rotate(0) translate(4 533)\">\n",
       "<title>%3</title>\n",
       "<polygon fill=\"#ffffff\" stroke=\"transparent\" points=\"-4,4 -4,-533 327.5,-533 327.5,4 -4,4\"/>\n",
       "<!-- 140336068028624 -->\n",
       "<g id=\"node1\" class=\"node\">\n",
       "<title>140336068028624</title>\n",
       "<polygon fill=\"#caff70\" stroke=\"#000000\" points=\"278.5,-21 193.5,-21 193.5,0 278.5,0 278.5,-21\"/>\n",
       "<text text-anchor=\"middle\" x=\"236\" y=\"-7.4\" font-family=\"Times,serif\" font-size=\"12.00\" fill=\"#000000\">MmBackward</text>\n",
       "</g>\n",
       "<!-- 140336068028288 -->\n",
       "<g id=\"node2\" class=\"node\">\n",
       "<title>140336068028288</title>\n",
       "<polygon fill=\"#d3d3d3\" stroke=\"#000000\" points=\"232,-78 138,-78 138,-57 232,-57 232,-78\"/>\n",
       "<text text-anchor=\"middle\" x=\"185\" y=\"-64.4\" font-family=\"Times,serif\" font-size=\"12.00\" fill=\"#000000\">ReluBackward0</text>\n",
       "</g>\n",
       "<!-- 140336068028288&#45;&gt;140336068028624 -->\n",
       "<g id=\"edge1\" class=\"edge\">\n",
       "<title>140336068028288&#45;&gt;140336068028624</title>\n",
       "<path fill=\"none\" stroke=\"#000000\" d=\"M194.5927,-56.7787C201.6449,-48.8969 211.3997,-37.9944 219.6699,-28.7512\"/>\n",
       "<polygon fill=\"#000000\" stroke=\"#000000\" points=\"222.3907,-30.9594 226.4503,-21.1732 217.174,-26.2918 222.3907,-30.9594\"/>\n",
       "</g>\n",
       "<!-- 140336068100728 -->\n",
       "<g id=\"node3\" class=\"node\">\n",
       "<title>140336068100728</title>\n",
       "<polygon fill=\"#d3d3d3\" stroke=\"#000000\" points=\"227.5,-141.5 142.5,-141.5 142.5,-120.5 227.5,-120.5 227.5,-141.5\"/>\n",
       "<text text-anchor=\"middle\" x=\"185\" y=\"-127.9\" font-family=\"Times,serif\" font-size=\"12.00\" fill=\"#000000\">MmBackward</text>\n",
       "</g>\n",
       "<!-- 140336068100728&#45;&gt;140336068028288 -->\n",
       "<g id=\"edge2\" class=\"edge\">\n",
       "<title>140336068100728&#45;&gt;140336068028288</title>\n",
       "<path fill=\"none\" stroke=\"#000000\" d=\"M185,-120.2281C185,-111.5091 185,-98.9699 185,-88.3068\"/>\n",
       "<polygon fill=\"#000000\" stroke=\"#000000\" points=\"188.5001,-88.1128 185,-78.1128 181.5001,-88.1129 188.5001,-88.1128\"/>\n",
       "</g>\n",
       "<!-- 140336068100840 -->\n",
       "<g id=\"node4\" class=\"node\">\n",
       "<title>140336068100840</title>\n",
       "<polygon fill=\"#d3d3d3\" stroke=\"#000000\" points=\"181,-205 89,-205 89,-184 181,-184 181,-205\"/>\n",
       "<text text-anchor=\"middle\" x=\"135\" y=\"-191.4\" font-family=\"Times,serif\" font-size=\"12.00\" fill=\"#000000\">ViewBackward</text>\n",
       "</g>\n",
       "<!-- 140336068100840&#45;&gt;140336068100728 -->\n",
       "<g id=\"edge3\" class=\"edge\">\n",
       "<title>140336068100840&#45;&gt;140336068100728</title>\n",
       "<path fill=\"none\" stroke=\"#000000\" d=\"M143.4818,-183.7281C150.853,-174.3667 161.6919,-160.6012 170.4468,-149.4826\"/>\n",
       "<polygon fill=\"#000000\" stroke=\"#000000\" points=\"173.2069,-151.6348 176.6434,-141.6128 167.7071,-147.3043 173.2069,-151.6348\"/>\n",
       "</g>\n",
       "<!-- 140336068101008 -->\n",
       "<g id=\"node5\" class=\"node\">\n",
       "<title>140336068101008</title>\n",
       "<polygon fill=\"#d3d3d3\" stroke=\"#000000\" points=\"181,-268.5 87,-268.5 87,-247.5 181,-247.5 181,-268.5\"/>\n",
       "<text text-anchor=\"middle\" x=\"134\" y=\"-254.9\" font-family=\"Times,serif\" font-size=\"12.00\" fill=\"#000000\">ReluBackward0</text>\n",
       "</g>\n",
       "<!-- 140336068101008&#45;&gt;140336068100840 -->\n",
       "<g id=\"edge4\" class=\"edge\">\n",
       "<title>140336068101008&#45;&gt;140336068100840</title>\n",
       "<path fill=\"none\" stroke=\"#000000\" d=\"M134.1696,-247.2281C134.3069,-238.5091 134.5044,-225.9699 134.6723,-215.3068\"/>\n",
       "<polygon fill=\"#000000\" stroke=\"#000000\" points=\"138.1749,-215.1667 134.8329,-205.1128 131.1757,-215.0564 138.1749,-215.1667\"/>\n",
       "</g>\n",
       "<!-- 140336068101120 -->\n",
       "<g id=\"node6\" class=\"node\">\n",
       "<title>140336068101120</title>\n",
       "<polygon fill=\"#d3d3d3\" stroke=\"#000000\" points=\"215,-332 53,-332 53,-311 215,-311 215,-332\"/>\n",
       "<text text-anchor=\"middle\" x=\"134\" y=\"-318.4\" font-family=\"Times,serif\" font-size=\"12.00\" fill=\"#000000\">MkldnnConvolutionBackward</text>\n",
       "</g>\n",
       "<!-- 140336068101120&#45;&gt;140336068101008 -->\n",
       "<g id=\"edge5\" class=\"edge\">\n",
       "<title>140336068101120&#45;&gt;140336068101008</title>\n",
       "<path fill=\"none\" stroke=\"#000000\" d=\"M134,-310.7281C134,-302.0091 134,-289.4699 134,-278.8068\"/>\n",
       "<polygon fill=\"#000000\" stroke=\"#000000\" points=\"137.5001,-278.6128 134,-268.6128 130.5001,-278.6129 137.5001,-278.6128\"/>\n",
       "</g>\n",
       "<!-- 140336068101232 -->\n",
       "<g id=\"node7\" class=\"node\">\n",
       "<title>140336068101232</title>\n",
       "<polygon fill=\"#d3d3d3\" stroke=\"#000000\" points=\"128,-395.5 34,-395.5 34,-374.5 128,-374.5 128,-395.5\"/>\n",
       "<text text-anchor=\"middle\" x=\"81\" y=\"-381.9\" font-family=\"Times,serif\" font-size=\"12.00\" fill=\"#000000\">ReluBackward0</text>\n",
       "</g>\n",
       "<!-- 140336068101232&#45;&gt;140336068101120 -->\n",
       "<g id=\"edge6\" class=\"edge\">\n",
       "<title>140336068101232&#45;&gt;140336068101120</title>\n",
       "<path fill=\"none\" stroke=\"#000000\" d=\"M89.9907,-374.2281C97.8042,-364.8667 109.2935,-351.1012 118.5736,-339.9826\"/>\n",
       "<polygon fill=\"#000000\" stroke=\"#000000\" points=\"121.4213,-342.0328 125.1421,-332.1128 116.0472,-337.5474 121.4213,-342.0328\"/>\n",
       "</g>\n",
       "<!-- 140336068101400 -->\n",
       "<g id=\"node8\" class=\"node\">\n",
       "<title>140336068101400</title>\n",
       "<polygon fill=\"#d3d3d3\" stroke=\"#000000\" points=\"162,-459 0,-459 0,-438 162,-438 162,-459\"/>\n",
       "<text text-anchor=\"middle\" x=\"81\" y=\"-445.4\" font-family=\"Times,serif\" font-size=\"12.00\" fill=\"#000000\">MkldnnConvolutionBackward</text>\n",
       "</g>\n",
       "<!-- 140336068101400&#45;&gt;140336068101232 -->\n",
       "<g id=\"edge7\" class=\"edge\">\n",
       "<title>140336068101400&#45;&gt;140336068101232</title>\n",
       "<path fill=\"none\" stroke=\"#000000\" d=\"M81,-437.7281C81,-429.0091 81,-416.4699 81,-405.8068\"/>\n",
       "<polygon fill=\"#000000\" stroke=\"#000000\" points=\"84.5001,-405.6128 81,-395.6128 77.5001,-405.6129 84.5001,-405.6128\"/>\n",
       "</g>\n",
       "<!-- 140336068101512 -->\n",
       "<g id=\"node9\" class=\"node\">\n",
       "<title>140336068101512</title>\n",
       "<polygon fill=\"#add8e6\" stroke=\"#000000\" points=\"121.5,-529 40.5,-529 40.5,-495 121.5,-495 121.5,-529\"/>\n",
       "<text text-anchor=\"middle\" x=\"81\" y=\"-515.4\" font-family=\"Times,serif\" font-size=\"12.00\" fill=\"#000000\">conv1.weight</text>\n",
       "<text text-anchor=\"middle\" x=\"81\" y=\"-502.4\" font-family=\"Times,serif\" font-size=\"12.00\" fill=\"#000000\"> (16, 3, 3, 3)</text>\n",
       "</g>\n",
       "<!-- 140336068101512&#45;&gt;140336068101400 -->\n",
       "<g id=\"edge8\" class=\"edge\">\n",
       "<title>140336068101512&#45;&gt;140336068101400</title>\n",
       "<path fill=\"none\" stroke=\"#000000\" d=\"M81,-494.9832C81,-487.1157 81,-477.6973 81,-469.4019\"/>\n",
       "<polygon fill=\"#000000\" stroke=\"#000000\" points=\"84.5001,-469.3686 81,-459.3687 77.5001,-469.3687 84.5001,-469.3686\"/>\n",
       "</g>\n",
       "<!-- 140336068101288 -->\n",
       "<g id=\"node10\" class=\"node\">\n",
       "<title>140336068101288</title>\n",
       "<polygon fill=\"#add8e6\" stroke=\"#000000\" points=\"227.5,-402 146.5,-402 146.5,-368 227.5,-368 227.5,-402\"/>\n",
       "<text text-anchor=\"middle\" x=\"187\" y=\"-388.4\" font-family=\"Times,serif\" font-size=\"12.00\" fill=\"#000000\">conv2.weight</text>\n",
       "<text text-anchor=\"middle\" x=\"187\" y=\"-375.4\" font-family=\"Times,serif\" font-size=\"12.00\" fill=\"#000000\"> (32, 16, 3, 3)</text>\n",
       "</g>\n",
       "<!-- 140336068101288&#45;&gt;140336068101120 -->\n",
       "<g id=\"edge9\" class=\"edge\">\n",
       "<title>140336068101288&#45;&gt;140336068101120</title>\n",
       "<path fill=\"none\" stroke=\"#000000\" d=\"M172.797,-367.9832C165.6401,-359.4085 156.9458,-348.9916 149.603,-340.1942\"/>\n",
       "<polygon fill=\"#000000\" stroke=\"#000000\" points=\"152.1664,-337.8032 143.0715,-332.3687 146.7923,-342.2887 152.1664,-337.8032\"/>\n",
       "</g>\n",
       "<!-- 140336068100896 -->\n",
       "<g id=\"node11\" class=\"node\">\n",
       "<title>140336068100896</title>\n",
       "<polygon fill=\"#d3d3d3\" stroke=\"#000000\" points=\"272.5,-205 199.5,-205 199.5,-184 272.5,-184 272.5,-205\"/>\n",
       "<text text-anchor=\"middle\" x=\"236\" y=\"-191.4\" font-family=\"Times,serif\" font-size=\"12.00\" fill=\"#000000\">TBackward</text>\n",
       "</g>\n",
       "<!-- 140336068100896&#45;&gt;140336068100728 -->\n",
       "<g id=\"edge10\" class=\"edge\">\n",
       "<title>140336068100896&#45;&gt;140336068100728</title>\n",
       "<path fill=\"none\" stroke=\"#000000\" d=\"M227.3485,-183.7281C219.8299,-174.3667 208.7742,-160.6012 199.8443,-149.4826\"/>\n",
       "<polygon fill=\"#000000\" stroke=\"#000000\" points=\"202.5145,-147.2179 193.5237,-141.6128 197.0568,-151.6012 202.5145,-147.2179\"/>\n",
       "</g>\n",
       "<!-- 140336068101064 -->\n",
       "<g id=\"node12\" class=\"node\">\n",
       "<title>140336068101064</title>\n",
       "<polygon fill=\"#add8e6\" stroke=\"#000000\" points=\"274.5,-275 199.5,-275 199.5,-241 274.5,-241 274.5,-275\"/>\n",
       "<text text-anchor=\"middle\" x=\"237\" y=\"-261.4\" font-family=\"Times,serif\" font-size=\"12.00\" fill=\"#000000\">fc1.weight</text>\n",
       "<text text-anchor=\"middle\" x=\"237\" y=\"-248.4\" font-family=\"Times,serif\" font-size=\"12.00\" fill=\"#000000\"> (200, 1568)</text>\n",
       "</g>\n",
       "<!-- 140336068101064&#45;&gt;140336068100896 -->\n",
       "<g id=\"edge11\" class=\"edge\">\n",
       "<title>140336068101064&#45;&gt;140336068100896</title>\n",
       "<path fill=\"none\" stroke=\"#000000\" d=\"M236.732,-240.9832C236.6081,-233.1157 236.4598,-223.6973 236.3292,-215.4019\"/>\n",
       "<polygon fill=\"#000000\" stroke=\"#000000\" points=\"239.8283,-215.3123 236.1712,-205.3687 232.8292,-215.4226 239.8283,-215.3123\"/>\n",
       "</g>\n",
       "<!-- 140336068100224 -->\n",
       "<g id=\"node13\" class=\"node\">\n",
       "<title>140336068100224</title>\n",
       "<polygon fill=\"#d3d3d3\" stroke=\"#000000\" points=\"323.5,-78 250.5,-78 250.5,-57 323.5,-57 323.5,-78\"/>\n",
       "<text text-anchor=\"middle\" x=\"287\" y=\"-64.4\" font-family=\"Times,serif\" font-size=\"12.00\" fill=\"#000000\">TBackward</text>\n",
       "</g>\n",
       "<!-- 140336068100224&#45;&gt;140336068028624 -->\n",
       "<g id=\"edge12\" class=\"edge\">\n",
       "<title>140336068100224&#45;&gt;140336068028624</title>\n",
       "<path fill=\"none\" stroke=\"#000000\" d=\"M277.4073,-56.7787C270.3551,-48.8969 260.6003,-37.9944 252.3301,-28.7512\"/>\n",
       "<polygon fill=\"#000000\" stroke=\"#000000\" points=\"254.826,-26.2918 245.5497,-21.1732 249.6093,-30.9594 254.826,-26.2918\"/>\n",
       "</g>\n",
       "<!-- 140336068100784 -->\n",
       "<g id=\"node14\" class=\"node\">\n",
       "<title>140336068100784</title>\n",
       "<polygon fill=\"#add8e6\" stroke=\"#000000\" points=\"320.5,-148 253.5,-148 253.5,-114 320.5,-114 320.5,-148\"/>\n",
       "<text text-anchor=\"middle\" x=\"287\" y=\"-134.4\" font-family=\"Times,serif\" font-size=\"12.00\" fill=\"#000000\">fc2.weight</text>\n",
       "<text text-anchor=\"middle\" x=\"287\" y=\"-121.4\" font-family=\"Times,serif\" font-size=\"12.00\" fill=\"#000000\"> (10, 200)</text>\n",
       "</g>\n",
       "<!-- 140336068100784&#45;&gt;140336068100224 -->\n",
       "<g id=\"edge13\" class=\"edge\">\n",
       "<title>140336068100784&#45;&gt;140336068100224</title>\n",
       "<path fill=\"none\" stroke=\"#000000\" d=\"M287,-113.9832C287,-106.1157 287,-96.6973 287,-88.4019\"/>\n",
       "<polygon fill=\"#000000\" stroke=\"#000000\" points=\"290.5001,-88.3686 287,-78.3687 283.5001,-88.3687 290.5001,-88.3686\"/>\n",
       "</g>\n",
       "</g>\n",
       "</svg>\n"
      ],
      "text/plain": [
       "<graphviz.dot.Digraph at 0x7fa2897be860>"
      ]
     },
     "execution_count": 19,
     "metadata": {},
     "output_type": "execute_result"
    }
   ],
   "source": [
    "class CNN(nn.Module):\n",
    "    def __init__(self):\n",
    "        super().__init__()\n",
    "        self.conv1, self.conv2 = None, None\n",
    "        self.fc1, self.fc2 = None, None\n",
    "        ###############################################################################\n",
    "        #       TODO : Set up the layer that you need to construct the model          #\n",
    "        ###############################################################################\n",
    "        self.conv1 = nn.Conv2d(3,16,(3,3),stride=2, bias=False)\n",
    "        self.conv2 = nn.Conv2d(16,32,(3,3), stride=2, bias=False)\n",
    "        \n",
    "        self.fc1 = nn.Linear(1568,200, bias=False)\n",
    "        self.fc2 = nn.Linear(200,10, bias=False)\n",
    "        ###############################################################################\n",
    "        #                            END TO DO                                        #\n",
    "        ###############################################################################\n",
    "        \n",
    "        \n",
    "    def forward(self, x):\n",
    "        out = None\n",
    "        ###############################################################################\n",
    "        #            TODO : Implement the forward function. You should use            #\n",
    "        #                   the layers you defined in __init__ and specify the        #\n",
    "        #                   connectivity of those layers in forward()                 #\n",
    "        ###############################################################################\n",
    "        x = F.relu(self.conv1(x))\n",
    "        x = F.relu(self.conv2(x))\n",
    "        x = flatten(x)\n",
    "        x = self.fc1(x)\n",
    "        x = F.relu(x)\n",
    "        out = self.fc2(x)\n",
    "        ###############################################################################\n",
    "        #                            END TO DO                                        #\n",
    "        ###############################################################################        \n",
    "\n",
    "        return out\n",
    "        \n",
    "\n",
    "model = CNN()\n",
    "x = torch.zeros((BATCH_SIZE, 3, 32, 32))\n",
    "make_dot(model(x), params=dict(model.named_parameters())) # You can check if the picture is the same \n",
    "                                                          # as previous picture"
   ]
  },
  {
   "cell_type": "markdown",
   "metadata": {},
   "source": [
    "### Train the model\n",
    "Train the model and check the accuracy of training dataset and validation set"
   ]
  },
  {
   "cell_type": "code",
   "execution_count": null,
   "metadata": {},
   "outputs": [],
   "source": [
    "criterion = nn.CrossEntropyLoss()\n",
    "optimizer = torch.optim.SGD(params=model.parameters(),lr=1e-3, momentum=0.9)\n",
    "trainer = Trainer(criterion, optimizer, device)\n",
    "trainer.train_loop(model, train_loader, val_loader)\n",
    "trainer.test(model, test_loader)"
   ]
  },
  {
   "cell_type": "markdown",
   "metadata": {},
   "source": [
    "## Part3 ModuleList API\n",
    "In this part, you have to complete the implentation of CNN with ModuleList API and Module API.\n",
    "The network should have the following architectures.\n",
    "1. A convolution layer with 16 3\\*3 filters, with stride 2\n",
    "2. ReLU\n",
    "3. A convolution layer with 32 3\\*3 filters, with stride 2\n",
    "4. ReLU\n",
    "5. Flatten\n",
    "6. A fully-connected layer produce tensor to 200 \n",
    "7. ReLU\n",
    "8. A fully-connected layer produce score to 10 (classes)\n",
    "![](./resource/model_architecture.png)"
   ]
  },
  {
   "cell_type": "code",
   "execution_count": null,
   "metadata": {},
   "outputs": [],
   "source": [
    "class ML(nn.Module):\n",
    "    def __init__(self):\n",
    "        super().__init__()\n",
    "        self.convs, self.fcs = nn.ModuleList(), nn.ModuleList()\n",
    "        ###############################################################################\n",
    "        #       TODO : Set up the layer that you need to construct the model          #\n",
    "        ###############################################################################        \n",
    "\n",
    "        ###############################################################################\n",
    "        #                            END TO DO                                        #\n",
    "        ############################################################################### \n",
    "        \n",
    "    def forward(self, x):\n",
    "        out = None\n",
    "        ###############################################################################\n",
    "        #            TODO : Implement the forward function. You should use            #\n",
    "        #                   the layers you defined in __init__ and specify the        #\n",
    "        #                   connectivity of those layers in forward()                 #\n",
    "        ###############################################################################          \n",
    "\n",
    "        ###############################################################################\n",
    "        #                            END TO DO                                        #\n",
    "        ###############################################################################             \n",
    "        return out\n",
    "    \n",
    "model = ML()\n",
    "x = torch.zeros((BATCH_SIZE, 3, 32, 32))\n",
    "make_dot(model(x), params=dict(model.named_parameters())) # You can check if the picture is the same \n",
    "                                                          # as previous picture"
   ]
  },
  {
   "cell_type": "markdown",
   "metadata": {},
   "source": [
    "### Train the model\n",
    "Train the model and check the accuracy of training dataset and validation set"
   ]
  },
  {
   "cell_type": "code",
   "execution_count": null,
   "metadata": {},
   "outputs": [],
   "source": [
    "criterion = nn.CrossEntropyLoss()\n",
    "optimizer = torch.optim.SGD(params=model.parameters(),lr=1e-3, momentum=0.9)\n",
    "trainer = Trainer(criterion, optimizer, device)\n",
    "trainer.train_loop(model, train_loader, val_loader)\n",
    "trainer.test(model, test_loader)"
   ]
  },
  {
   "cell_type": "markdown",
   "metadata": {},
   "source": [
    "## Part4 Sequential\n",
    "In this part, you have to complete the implentation of CNN with Sequential API.\n",
    "The network should have the following architectures.\n",
    "1. A convolution layer with 16 3\\*3 filters, with stride 2\n",
    "2. ReLU\n",
    "3. A convolution layer with 32 3\\*3 filters, with stride 2\n",
    "4. ReLU\n",
    "5. Flatten\n",
    "6. A fully-connected layer produce tensor to 200 \n",
    "7. ReLU\n",
    "8. A fully-connected layer produce score to 10 (classes)\n",
    "![](./resource/model_architecture.png)"
   ]
  },
  {
   "cell_type": "code",
   "execution_count": null,
   "metadata": {},
   "outputs": [],
   "source": [
    "class Flatten(nn.Module):\n",
    "    def forward(self, x):\n",
    "        return flatten(x)"
   ]
  },
  {
   "cell_type": "code",
   "execution_count": null,
   "metadata": {},
   "outputs": [],
   "source": [
    "model = None\n",
    "###############################################################################\n",
    "#            TODO : Implement the Sequential API to complete the model        #\n",
    "###############################################################################          \n",
    "       \n",
    "###############################################################################\n",
    "#                            END TO DO                                        #\n",
    "###############################################################################  \n",
    "\n",
    "\n",
    "x = torch.zeros((BATCH_SIZE, 3, 32, 32))\n",
    "make_dot(model(x), params=dict(model.named_parameters())) # You can check if the picture is the same \n",
    "                                                          # as previous picture"
   ]
  },
  {
   "cell_type": "markdown",
   "metadata": {},
   "source": [
    "### Train the model\n",
    "Train the model and check the accuracy of training dataset and validation set"
   ]
  },
  {
   "cell_type": "code",
   "execution_count": null,
   "metadata": {},
   "outputs": [],
   "source": [
    "criterion = nn.CrossEntropyLoss()\n",
    "optimizer = torch.optim.SGD(params=model.parameters(),lr=1e-3, momentum=0.9)\n",
    "trainer = Trainer(criterion, optimizer, device)\n",
    "trainer.train_loop(model, train_loader, val_loader)\n",
    "trainer.test(model, test_loader)"
   ]
  },
  {
   "cell_type": "markdown",
   "metadata": {},
   "source": [
    "## Part 5 CIFAR-10 open-ended challenge\n",
    "In this section, you can experiment with whatever ConvNet architecture you'd like on CIFAR-10\n",
    "### Baseline : 65% on Testing data!!!"
   ]
  },
  {
   "cell_type": "code",
   "execution_count": null,
   "metadata": {},
   "outputs": [],
   "source": [
    "model = None\n",
    "optimizer = None\n",
    "###############################################################################\n",
    "#                               TODO                                          #\n",
    "###############################################################################          \n",
    "\n",
    "###############################################################################\n",
    "#                            END TO DO                                        #\n",
    "###############################################################################  \n",
    "\n",
    "\n",
    "\n",
    "# criterion = nn.CrossEntropyLoss()\n",
    "# optimizer = torch.optim.SGD(params=model.parameters(),lr=1e-3, momentum=0.9)\n",
    "# trainer = Trainer(criterion, optimizer, device)\n",
    "# trainer.train_loop(model, train_loader, val_loader)\n",
    "# trainer.test(model, test_loader)"
   ]
  },
  {
   "cell_type": "markdown",
   "metadata": {},
   "source": [
    "### 請解釋你如何建構的"
   ]
  },
  {
   "cell_type": "markdown",
   "metadata": {},
   "source": [
    "--寫在這裡--"
   ]
  }
 ],
 "metadata": {
  "kernelspec": {
   "display_name": "Python 3",
   "language": "python",
   "name": "python3"
  },
  "language_info": {
   "codemirror_mode": {
    "name": "ipython",
    "version": 3
   },
   "file_extension": ".py",
   "mimetype": "text/x-python",
   "name": "python",
   "nbconvert_exporter": "python",
   "pygments_lexer": "ipython3",
   "version": "3.6.9"
  }
 },
 "nbformat": 4,
 "nbformat_minor": 2
}
